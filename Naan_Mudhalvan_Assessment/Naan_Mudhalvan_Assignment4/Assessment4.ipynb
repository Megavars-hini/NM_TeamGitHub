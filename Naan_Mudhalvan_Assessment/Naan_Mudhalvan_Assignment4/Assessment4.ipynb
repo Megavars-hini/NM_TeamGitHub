{
  "nbformat": 4,
  "nbformat_minor": 0,
  "metadata": {
    "colab": {
      "provenance": []
    },
    "kernelspec": {
      "name": "python3",
      "display_name": "Python 3"
    },
    "language_info": {
      "name": "python"
    }
  },
  "cells": [
    {
      "cell_type": "code",
      "execution_count": 3,
      "metadata": {
        "colab": {
          "base_uri": "https://localhost:8080/"
        },
        "id": "QozQg7iuMaP9",
        "outputId": "6a1816f6-19c5-4353-aadb-c49ff9d04349"
      },
      "outputs": [
        {
          "output_type": "stream",
          "name": "stdout",
          "text": [
            "[1, 2, 3, 4, 5, 6]\n"
          ]
        }
      ],
      "source": [
        "# Create two lists\n",
        "list1 = [1, 2, 3]\n",
        "list2 = [4, 5, 6]\n",
        "\n",
        "# Join the two lists using the + operator\n",
        "joined_list = list1 + list2\n",
        "\n",
        "print(joined_list)\n"
      ]
    },
    {
      "cell_type": "code",
      "source": [
        "# Create a list of numbers\n",
        "numbers = [1, 2, 3, 4, 5, 6, 7, 8, 9, 10]\n",
        "\n",
        "# Initialize an empty list to store even numbers\n",
        "even_numbers = []\n",
        "\n",
        "# Use an if statement to find and add even numbers to the even_numbers list\n",
        "for number in numbers:\n",
        "    if number % 2 == 0:\n",
        "        even_numbers.append(number)\n",
        "\n",
        "# Print the list of even numbers\n",
        "print(even_numbers)\n"
      ],
      "metadata": {
        "colab": {
          "base_uri": "https://localhost:8080/"
        },
        "id": "WCbBLnh6MyfL",
        "outputId": "80d15d8b-992d-4733-f157-2faa26e78e14"
      },
      "execution_count": 4,
      "outputs": [
        {
          "output_type": "stream",
          "name": "stdout",
          "text": [
            "[2, 4, 6, 8, 10]\n"
          ]
        }
      ]
    },
    {
      "cell_type": "code",
      "source": [
        "# Create a dictionary with 3 keys and 2 values for each key\n",
        "my_dict = {\n",
        "    'key1': ['value1a', 'value1b'],\n",
        "    'key2': ['value2a', 'value2b'],\n",
        "    'key3': ['value3a', 'value3b']\n",
        "}\n",
        "\n",
        "# Accessing the values in the dictionary\n",
        "print(my_dict['key1'])  # Output: ['value1a', 'value1b']\n",
        "print(my_dict['key2'])  # Output: ['value2a', 'value2b']\n",
        "print(my_dict['key3'])  # Output: ['value3a', 'value3b']\n"
      ],
      "metadata": {
        "colab": {
          "base_uri": "https://localhost:8080/"
        },
        "id": "pDF5ozwSNkgq",
        "outputId": "5fa78c4b-0dd5-49c3-ad17-8dc04d901ce1"
      },
      "execution_count": 5,
      "outputs": [
        {
          "output_type": "stream",
          "name": "stdout",
          "text": [
            "['value1a', 'value1b']\n",
            "['value2a', 'value2b']\n",
            "['value3a', 'value3b']\n"
          ]
        }
      ]
    },
    {
      "cell_type": "code",
      "source": [
        "def find_odd_numbers(numbers):\n",
        "    # Initialize an empty list to store odd numbers\n",
        "    odd_numbers = []\n",
        "\n",
        "    # Use an if statement to find and add odd numbers to the odd_numbers list\n",
        "    for number in numbers:\n",
        "        if number % 2 != 0:\n",
        "            odd_numbers.append(number)\n",
        "\n",
        "    return odd_numbers\n",
        "\n",
        "# Test the function with a list of numbers\n",
        "numbers = [1, 2, 3, 4, 5, 6, 7, 8, 9, 10]\n",
        "odd_numbers = find_odd_numbers(numbers)\n",
        "print(odd_numbers)\n"
      ],
      "metadata": {
        "colab": {
          "base_uri": "https://localhost:8080/"
        },
        "id": "YUWFkxVjN213",
        "outputId": "ce829f58-9744-41c8-c3a8-960cf2c44562"
      },
      "execution_count": 6,
      "outputs": [
        {
          "output_type": "stream",
          "name": "stdout",
          "text": [
            "[1, 3, 5, 7, 9]\n"
          ]
        }
      ]
    },
    {
      "cell_type": "code",
      "source": [
        "def sum_list_numbers(numbers):\n",
        "    total = 0  # Initialize a variable to keep track of the sum\n",
        "\n",
        "    # Use a for loop to iterate through the list and add each number to the total\n",
        "    for number in numbers:\n",
        "        total += number\n",
        "\n",
        "    return total\n",
        "\n",
        "# Test the function with a sample list\n",
        "sample_list = [8, 2, 3, 0, 7]\n",
        "result = sum_list_numbers(sample_list)\n",
        "print(\"Sum of the numbers in the list:\", result)\n"
      ],
      "metadata": {
        "colab": {
          "base_uri": "https://localhost:8080/"
        },
        "id": "b4slg7ldOFz3",
        "outputId": "fd0ebd4f-a145-4129-fc8f-da117ec69f53"
      },
      "execution_count": 7,
      "outputs": [
        {
          "output_type": "stream",
          "name": "stdout",
          "text": [
            "Sum of the numbers in the list: 20\n"
          ]
        }
      ]
    }
  ]
}